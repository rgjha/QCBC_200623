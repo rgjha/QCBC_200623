{
  "nbformat": 4,
  "nbformat_minor": 0,
  "metadata": {
    "colab": {
      "provenance": []
    },
    "kernelspec": {
      "name": "python3",
      "display_name": "Python 3"
    },
    "language_info": {
      "name": "python"
    }
  },
  "cells": [
    {
      "cell_type": "code",
      "execution_count": 2,
      "metadata": {
        "id": "nopsNzX8Btxg"
      },
      "outputs": [],
      "source": [
        "#!pip install qiskit ipywidgets"
      ]
    },
    {
      "cell_type": "code",
      "source": [
        "import numpy as np\n",
        "import time\n",
        "from qiskit import Aer\n",
        "from qiskit.utils import QuantumInstance\n",
        "from qiskit.algorithms import VQE\n",
        "from qiskit.opflow import MatrixOp\n",
        "from qiskit.opflow import X, Y, Z, I\n",
        "from qiskit.circuit.library import EfficientSU2\n",
        "from qiskit.algorithms.optimizers import SLSQP, COBYLA"
      ],
      "metadata": {
        "id": "3QpjFKvkPMdw"
      },
      "execution_count": 25,
      "outputs": []
    },
    {
      "cell_type": "code",
      "source": [
        "g = 0.02 # Coupling used to create ham_HO.txt as input to this code\n",
        "Hps = (4 * I ^ I ^ I)+(-0.152955 * I ^ I ^ X)+(-0.5 * I ^ I ^ Z)+(-0.12289 * I ^ X ^\n",
        "    X)+(-0.0629948 * I ^ Y ^ Y)+(-1 * I ^ Z ^ I)+(0.0237627 * I ^ Z ^ X)+(-0.0280252 * X ^ I\n",
        "    ^ X)+(-0.0561195 * X ^ X ^ X)+(0.0287333 * X ^ Y ^ Y)+(0.0107047 * X ^ Z ^ X)+(-0.0280252\n",
        "    * Y ^ I ^ Y)+(-0.0287333 * Y ^ X ^ Y)+(-0.0561195 * Y ^ Y ^ X)+(0.0107047 * Y ^ Z ^\n",
        "    Y)+(-2 * Z ^ I ^ I)+(0.0872346 * Z ^ I ^ X)+(0.0842295 * Z ^ X ^ X)+(0.041655 * Z ^ Y ^\n",
        "    Y)+(0.0207442 * Z ^ Z ^ X)"
      ],
      "metadata": {
        "id": "dqntU9aWPREl"
      },
      "execution_count": 26,
      "outputs": []
    },
    {
      "cell_type": "code",
      "source": [
        "start_time = time.time()\n",
        "nbits =3\n",
        "var_form = EfficientSU2(nbits, su2_gates=['ry'], entanglement=\"full\", reps=1)\n",
        "rngseed = 5\n",
        "backend = Aer.get_backend(\"statevector_simulator\")\n",
        "q_instance = QuantumInstance(backend, seed_transpiler=rngseed, seed_simulator=rngseed)\n",
        "#optimizer = SLSQP(maxiter=600)\n",
        "optimizer = COBYLA(maxiter=600)\n",
        "\n",
        "# Run the VQE\n",
        "vqe = VQE(ansatz=var_form,optimizer=optimizer,quantum_instance=q_instance)\n",
        "ret = vqe.compute_minimum_eigenvalue(Hps)\n",
        "vqe_result = np.real(ret.eigenvalue)\n",
        "print(\"VQE Result:\", vqe_result)\n",
        "exact = 0.5 - (11/8)*g*g -(465/32)*g*g*g*g\n",
        "print (\"Exact result for cubic oscillator upto O(g^4) is\", exact)\n",
        "print (\"Error is\", np.round(abs((exact-vqe_result)/exact)*100,10), \"percent\")\n",
        "end_time = time.time()\n",
        "runtime = end_time-start_time\n",
        "print('Program runtime: ',runtime, \"seconds\")"
      ],
      "metadata": {
        "colab": {
          "base_uri": "https://localhost:8080/"
        },
        "id": "kIzDe898PVji",
        "outputId": "2a9952dc-565b-48f1-df43-99db30366346"
      },
      "execution_count": 29,
      "outputs": [
        {
          "output_type": "stream",
          "name": "stdout",
          "text": [
            "VQE Result: 0.49944765749341563\n",
            "Exact result for cubic oscillator upto O(g^4) is 0.499447675\n",
            "Error is 3.5052e-06 percent\n",
            "Program runtime:  0.1641240119934082 seconds\n"
          ]
        },
        {
          "output_type": "stream",
          "name": "stderr",
          "text": [
            "<ipython-input-29-f6f6eb774a7a>:6: DeprecationWarning: The class ``qiskit.utils.quantum_instance.QuantumInstance`` is deprecated as of qiskit-terra 0.24.0. It will be removed no earlier than 3 months after the release date. For code migration guidelines, visit https://qisk.it/qi_migration.\n",
            "  q_instance = QuantumInstance(backend, seed_transpiler=rngseed, seed_simulator=rngseed)\n",
            "<ipython-input-29-f6f6eb774a7a>:11: DeprecationWarning: The class ``qiskit.algorithms.minimum_eigen_solvers.vqe.VQE`` is deprecated as of qiskit-terra 0.24.0. It will be removed no earlier than 3 months after the release date. Instead, use the class ``qiskit.algorithms.minimum_eigensolvers.VQE``. See https://qisk.it/algo_migration for a migration guide.\n",
            "  vqe = VQE(ansatz=var_form,optimizer=optimizer,quantum_instance=q_instance)\n"
          ]
        }
      ]
    }
  ]
}