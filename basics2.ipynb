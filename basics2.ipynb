{
  "nbformat": 4,
  "nbformat_minor": 0,
  "metadata": {
    "colab": {
      "provenance": []
    },
    "kernelspec": {
      "name": "python3",
      "display_name": "Python 3"
    },
    "language_info": {
      "name": "python"
    }
  },
  "cells": [
    {
      "cell_type": "code",
      "execution_count": null,
      "metadata": {
        "id": "V44wCgIsXJHM"
      },
      "outputs": [],
      "source": [
        "#!pip install qiskit ipywidgets"
      ]
    },
    {
      "cell_type": "code",
      "source": [
        "# Start with defining 3-qubit maximally entangled state\n",
        "\n",
        "from qiskit import QuantumCircuit\n",
        "#import qiskit.quantum_info as qi\n",
        "from qiskit.quantum_info import *\n",
        "from qiskit.visualization import array_to_latex\n",
        "\n",
        "qc = QuantumCircuit(2)\n",
        "qc.h(1)\n",
        "qc.cx(1,0)\n",
        "bell = Statevector.from_instruction(qc)\n",
        "print(\"Entanglement of Formation = \", entanglement_of_formation(bell))\n",
        "# The entanglement of formation is a quantity that measures the entanglement\n",
        "# of a bipartite quantum state"
      ],
      "metadata": {
        "colab": {
          "base_uri": "https://localhost:8080/"
        },
        "id": "Y6CNyxPOXhKM",
        "outputId": "379ebce7-519e-4826-bd8b-456be57c31bc"
      },
      "execution_count": null,
      "outputs": [
        {
          "output_type": "stream",
          "name": "stdout",
          "text": [
            "Entanglement of Formation =  1.0\n"
          ]
        }
      ]
    },
    {
      "cell_type": "code",
      "source": [
        "from qiskit.circuit.random import random_circuit\n",
        "qc = random_circuit(2, 2)\n",
        "qc.draw()"
      ],
      "metadata": {
        "colab": {
          "base_uri": "https://localhost:8080/",
          "height": 92
        },
        "id": "cJwtXnWSZOrE",
        "outputId": "817d2e87-60d0-44ec-c908-a3ae01091a06"
      },
      "execution_count": null,
      "outputs": [
        {
          "output_type": "execute_result",
          "data": {
            "text/plain": [
              "     ┌───┐┌───┐\n",
              "q_0: ┤ S ├┤ X ├\n",
              "     └─┬─┘├───┤\n",
              "q_1: ──■──┤ T ├\n",
              "          └───┘"
            ],
            "text/html": [
              "<pre style=\"word-wrap: normal;white-space: pre;background: #fff0;line-height: 1.1;font-family: &quot;Courier New&quot;,Courier,monospace\">     ┌───┐┌───┐\n",
              "q_0: ┤ S ├┤ X ├\n",
              "     └─┬─┘├───┤\n",
              "q_1: ──■──┤ T ├\n",
              "          └───┘</pre>"
            ]
          },
          "metadata": {},
          "execution_count": 22
        }
      ]
    },
    {
      "cell_type": "code",
      "source": [
        "qc = QuantumCircuit(3)\n",
        "qc.h(0)\n",
        "qc.cx(0,1)\n",
        "qc.cx(0,2)\n",
        "ghz3 = Statevector.from_instruction(qc)\n",
        "ghz3.draw('latex')\n",
        "\n",
        "# One of the two possible ways three qubits can be entangled.\n",
        "# Find out the other way as a HW exercise."
      ],
      "metadata": {
        "colab": {
          "base_uri": "https://localhost:8080/",
          "height": 40
        },
        "id": "GiuTZK58Yef-",
        "outputId": "6aab2db0-aaad-4345-af61-fa1843a06676"
      },
      "execution_count": null,
      "outputs": [
        {
          "output_type": "execute_result",
          "data": {
            "text/plain": [
              "<IPython.core.display.Latex object>"
            ],
            "text/latex": "$$\\frac{\\sqrt{2}}{2} |000\\rangle+\\frac{\\sqrt{2}}{2} |111\\rangle$$"
          },
          "metadata": {},
          "execution_count": 23
        }
      ]
    },
    {
      "cell_type": "code",
      "source": [
        "# How about general $N$ qubit GHZ\n",
        "\n",
        "qn = 5\n",
        "\n",
        "circ = QuantumCircuit(qn)\n",
        "circ.h(0)\n",
        "for qubit in range(0, qn-1):\n",
        "        circ.cx(0,qubit+1)\n",
        "\n",
        "circ.draw()"
      ],
      "metadata": {
        "colab": {
          "base_uri": "https://localhost:8080/",
          "height": 182
        },
        "id": "EDHhQQXSY4dm",
        "outputId": "dbd8af74-7888-453a-c5cb-61dbe74a517e"
      },
      "execution_count": null,
      "outputs": [
        {
          "output_type": "execute_result",
          "data": {
            "text/plain": [
              "     ┌───┐                    \n",
              "q_0: ┤ H ├──■────■────■────■──\n",
              "     └───┘┌─┴─┐  │    │    │  \n",
              "q_1: ─────┤ X ├──┼────┼────┼──\n",
              "          └───┘┌─┴─┐  │    │  \n",
              "q_2: ──────────┤ X ├──┼────┼──\n",
              "               └───┘┌─┴─┐  │  \n",
              "q_3: ───────────────┤ X ├──┼──\n",
              "                    └───┘┌─┴─┐\n",
              "q_4: ────────────────────┤ X ├\n",
              "                         └───┘"
            ],
            "text/html": [
              "<pre style=\"word-wrap: normal;white-space: pre;background: #fff0;line-height: 1.1;font-family: &quot;Courier New&quot;,Courier,monospace\">     ┌───┐                    \n",
              "q_0: ┤ H ├──■────■────■────■──\n",
              "     └───┘┌─┴─┐  │    │    │  \n",
              "q_1: ─────┤ X ├──┼────┼────┼──\n",
              "          └───┘┌─┴─┐  │    │  \n",
              "q_2: ──────────┤ X ├──┼────┼──\n",
              "               └───┘┌─┴─┐  │  \n",
              "q_3: ───────────────┤ X ├──┼──\n",
              "                    └───┘┌─┴─┐\n",
              "q_4: ────────────────────┤ X ├\n",
              "                         └───┘</pre>"
            ]
          },
          "metadata": {},
          "execution_count": 7
        }
      ]
    },
    {
      "cell_type": "code",
      "source": [
        "ghzN = Statevector.from_instruction(circ)\n",
        "ghzN.draw('latex')"
      ],
      "metadata": {
        "colab": {
          "base_uri": "https://localhost:8080/",
          "height": 40
        },
        "id": "P20f5u9VZEiB",
        "outputId": "f5cb656d-58c2-45b6-f6bb-d4cae74a4cfb"
      },
      "execution_count": null,
      "outputs": [
        {
          "output_type": "execute_result",
          "data": {
            "text/plain": [
              "<IPython.core.display.Latex object>"
            ],
            "text/latex": "$$\\frac{\\sqrt{2}}{2} |00000\\rangle+\\frac{\\sqrt{2}}{2} |11111\\rangle$$"
          },
          "metadata": {},
          "execution_count": 8
        }
      ]
    },
    {
      "cell_type": "code",
      "source": [
        "qc = random_circuit(3, 4)\n",
        "qc.draw()\n",
        "# The depth of a circuit is a metric that\n",
        "# calculates the longest path between the data input and\n",
        "# the output. Each gate counts as a unit."
      ],
      "metadata": {
        "colab": {
          "base_uri": "https://localhost:8080/"
        },
        "id": "tEqnW7nLanVv",
        "outputId": "a65948a1-aece-46e2-fac3-53058166fbdb"
      },
      "execution_count": null,
      "outputs": [
        {
          "output_type": "stream",
          "name": "stdout",
          "text": [
            "The circuit depth is: 4\n"
          ]
        }
      ]
    },
    {
      "cell_type": "code",
      "source": [
        "print(\"The circuit depth is:\", qc.depth())"
      ],
      "metadata": {
        "colab": {
          "base_uri": "https://localhost:8080/"
        },
        "id": "7ne8qJ5SbfNC",
        "outputId": "6738ad1f-5eed-4e15-838d-aedd5803a5c5"
      },
      "execution_count": null,
      "outputs": [
        {
          "output_type": "stream",
          "name": "stdout",
          "text": [
            "The circuit depth is: 4\n"
          ]
        }
      ]
    },
    {
      "cell_type": "code",
      "source": [
        "qc = QuantumCircuit(3)\n",
        "#qc.h(1)\n",
        "qc.ccx(0,1,2)\n",
        "qc.draw()\n",
        "\n",
        "# We seem to need 6 CX, 7 T gates. Effecient decomposition"
      ],
      "metadata": {
        "colab": {
          "base_uri": "https://localhost:8080/",
          "height": 122
        },
        "id": "qezdiLj4blSO",
        "outputId": "f88fcf96-e04d-4421-fe96-47d2f21f0112"
      },
      "execution_count": null,
      "outputs": [
        {
          "output_type": "execute_result",
          "data": {
            "text/plain": [
              "          \n",
              "q_0: ──■──\n",
              "       │  \n",
              "q_1: ──■──\n",
              "     ┌─┴─┐\n",
              "q_2: ┤ X ├\n",
              "     └───┘"
            ],
            "text/html": [
              "<pre style=\"word-wrap: normal;white-space: pre;background: #fff0;line-height: 1.1;font-family: &quot;Courier New&quot;,Courier,monospace\">          \n",
              "q_0: ──■──\n",
              "       │  \n",
              "q_1: ──■──\n",
              "     ┌─┴─┐\n",
              "q_2: ┤ X ├\n",
              "     └───┘</pre>"
            ]
          },
          "metadata": {},
          "execution_count": 34
        }
      ]
    },
    {
      "cell_type": "code",
      "source": [
        "qc.decompose().draw()"
      ],
      "metadata": {
        "colab": {
          "base_uri": "https://localhost:8080/",
          "height": 122
        },
        "id": "M7eXOabJb9K-",
        "outputId": "a370081a-c24c-4283-8787-15b34c88b9c3"
      },
      "execution_count": null,
      "outputs": [
        {
          "output_type": "execute_result",
          "data": {
            "text/plain": [
              "                                                       ┌───┐      \n",
              "q_0: ───────────────────■─────────────────────■────■───┤ T ├───■──\n",
              "                        │             ┌───┐   │  ┌─┴─┐┌┴───┴┐┌─┴─┐\n",
              "q_1: ───────■───────────┼─────────■───┤ T ├───┼──┤ X ├┤ Tdg ├┤ X ├\n",
              "     ┌───┐┌─┴─┐┌─────┐┌─┴─┐┌───┐┌─┴─┐┌┴───┴┐┌─┴─┐├───┤└┬───┬┘└───┘\n",
              "q_2: ┤ H ├┤ X ├┤ Tdg ├┤ X ├┤ T ├┤ X ├┤ Tdg ├┤ X ├┤ T ├─┤ H ├──────\n",
              "     └───┘└───┘└─────┘└───┘└───┘└───┘└─────┘└───┘└───┘ └───┘      "
            ],
            "text/html": [
              "<pre style=\"word-wrap: normal;white-space: pre;background: #fff0;line-height: 1.1;font-family: &quot;Courier New&quot;,Courier,monospace\">                                                       ┌───┐      \n",
              "q_0: ───────────────────■─────────────────────■────■───┤ T ├───■──\n",
              "                        │             ┌───┐   │  ┌─┴─┐┌┴───┴┐┌─┴─┐\n",
              "q_1: ───────■───────────┼─────────■───┤ T ├───┼──┤ X ├┤ Tdg ├┤ X ├\n",
              "     ┌───┐┌─┴─┐┌─────┐┌─┴─┐┌───┐┌─┴─┐┌┴───┴┐┌─┴─┐├───┤└┬───┬┘└───┘\n",
              "q_2: ┤ H ├┤ X ├┤ Tdg ├┤ X ├┤ T ├┤ X ├┤ Tdg ├┤ X ├┤ T ├─┤ H ├──────\n",
              "     └───┘└───┘└─────┘└───┘└───┘└───┘└─────┘└───┘└───┘ └───┘      </pre>"
            ]
          },
          "metadata": {},
          "execution_count": 36
        }
      ]
    }
  ]
}